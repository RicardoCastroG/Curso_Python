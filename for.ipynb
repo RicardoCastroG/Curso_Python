{
  "nbformat": 4,
  "nbformat_minor": 0,
  "metadata": {
    "colab": {
      "provenance": [],
      "authorship_tag": "ABX9TyMELgqPeDvj3cGbvVyDn+Ki",
      "include_colab_link": true
    },
    "kernelspec": {
      "name": "python3",
      "display_name": "Python 3"
    },
    "language_info": {
      "name": "python"
    }
  },
  "cells": [
    {
      "cell_type": "markdown",
      "metadata": {
        "id": "view-in-github",
        "colab_type": "text"
      },
      "source": [
        "<a href=\"https://colab.research.google.com/github/RicardoCastroG/Curso_Python/blob/main/for.ipynb\" target=\"_parent\"><img src=\"https://colab.research.google.com/assets/colab-badge.svg\" alt=\"Open In Colab\"/></a>"
      ]
    },
    {
      "cell_type": "code",
      "execution_count": 1,
      "metadata": {
        "id": "vl3-M1avlP59"
      },
      "outputs": [],
      "source": [
        "adj = [\"roja\", \"grande\", \"dulce\"]\n",
        "fruits = [\"manzana\", \"platano\", \"cereza\"]"
      ]
    },
    {
      "cell_type": "code",
      "source": [
        "for x in adj:\n",
        "  for y in fruits:\n",
        "   print(x,y)"
      ],
      "metadata": {
        "colab": {
          "base_uri": "https://localhost:8080/"
        },
        "id": "q5rWXKOIr6hT",
        "outputId": "fbcc82bb-d2e3-4b44-e850-b2e99f1ea165"
      },
      "execution_count": 2,
      "outputs": [
        {
          "output_type": "stream",
          "name": "stdout",
          "text": [
            "roja manzana\n",
            "roja platano\n",
            "roja cereza\n",
            "grande manzana\n",
            "grande platano\n",
            "grande cereza\n",
            "dulce manzana\n",
            "dulce platano\n",
            "dulce cereza\n"
          ]
        }
      ]
    },
    {
      "cell_type": "code",
      "source": [
        "for i in range(3):\n",
        "  print(f\"{adj[0]} {fruits[i]} \")\n",
        "for i in range(3):\n",
        "  print(f\"{adj[1]} {fruits[i]} \")\n",
        "for i in range(3):\n",
        "  print(f\"{adj[2]} {fruits[i]} \")"
      ],
      "metadata": {
        "colab": {
          "base_uri": "https://localhost:8080/"
        },
        "id": "YdZwK9trr6_z",
        "outputId": "d11e9c18-f3f6-4615-a554-7e6d5717eead"
      },
      "execution_count": 4,
      "outputs": [
        {
          "output_type": "stream",
          "name": "stdout",
          "text": [
            "roja manzana \n",
            "roja platano \n",
            "roja cereza \n",
            "grande manzana \n",
            "grande platano \n",
            "grande cereza \n",
            "dulce manzana \n",
            "dulce platano \n",
            "dulce cereza \n"
          ]
        }
      ]
    },
    {
      "cell_type": "code",
      "source": [
        "n=int(input(\"dame tu edad\"))\n",
        "for i in range(1,n+1):\n",
        "  print(f\"{i} años cumplidos \")"
      ],
      "metadata": {
        "colab": {
          "base_uri": "https://localhost:8080/"
        },
        "id": "xiN_lP4Hr-0S",
        "outputId": "040dbbb9-1b3d-494e-a10f-f91f2fd87390"
      },
      "execution_count": 5,
      "outputs": [
        {
          "output_type": "stream",
          "name": "stdout",
          "text": [
            "dame tu edad18\n",
            "1 años cumplidos \n",
            "2 años cumplidos \n",
            "3 años cumplidos \n",
            "4 años cumplidos \n",
            "5 años cumplidos \n",
            "6 años cumplidos \n",
            "7 años cumplidos \n",
            "8 años cumplidos \n",
            "9 años cumplidos \n",
            "10 años cumplidos \n",
            "11 años cumplidos \n",
            "12 años cumplidos \n",
            "13 años cumplidos \n",
            "14 años cumplidos \n",
            "15 años cumplidos \n",
            "16 años cumplidos \n",
            "17 años cumplidos \n",
            "18 años cumplidos \n"
          ]
        }
      ]
    },
    {
      "cell_type": "code",
      "source": [
        "suma=0\n",
        "while True:\n",
        "  a=int(input(\"dime un valor que no sea 0 \"))\n",
        "  suma+=a\n",
        "  if a==0:\n",
        "    print(\"la suma es\",suma)\n",
        "    break"
      ],
      "metadata": {
        "colab": {
          "base_uri": "https://localhost:8080/"
        },
        "id": "IoNNtgsNsDGX",
        "outputId": "7fc5ed2f-650a-4132-d4e6-347326c1954b"
      },
      "execution_count": 6,
      "outputs": [
        {
          "output_type": "stream",
          "name": "stdout",
          "text": [
            "dime un valor que no sea 0 2\n",
            "dime un valor que no sea 0 2\n",
            "dime un valor que no sea 0 2\n",
            "dime un valor que no sea 0 0\n",
            "la suma es 6\n"
          ]
        }
      ]
    },
    {
      "cell_type": "code",
      "source": [],
      "metadata": {
        "id": "nCQlCUIesIiN"
      },
      "execution_count": null,
      "outputs": []
    }
  ]
}