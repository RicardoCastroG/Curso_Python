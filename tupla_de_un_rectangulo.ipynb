{
  "nbformat": 4,
  "nbformat_minor": 0,
  "metadata": {
    "colab": {
      "provenance": [],
      "authorship_tag": "ABX9TyPhkZIsZyS32becBEP67o6T",
      "include_colab_link": true
    },
    "kernelspec": {
      "name": "python3",
      "display_name": "Python 3"
    },
    "language_info": {
      "name": "python"
    }
  },
  "cells": [
    {
      "cell_type": "markdown",
      "metadata": {
        "id": "view-in-github",
        "colab_type": "text"
      },
      "source": [
        "<a href=\"https://colab.research.google.com/github/RicardoCastroG/Curso_Python/blob/main/tupla_de_un_rectangulo.ipynb\" target=\"_parent\"><img src=\"https://colab.research.google.com/assets/colab-badge.svg\" alt=\"Open In Colab\"/></a>"
      ]
    },
    {
      "cell_type": "code",
      "source": [
        "def calcular_area_perimetro(base,altura,color):\n",
        " base=float(input(\"dame el valor de la base \"))\n",
        " altura=float(input(\"dame el valor de la altura \"))\n",
        " color=str(input(\"dame el valor de la base \"))\n",
        "\n",
        " area=base*altura\n",
        " perimetro=(base*2)+(altura*2)\n",
        " color2=color\n",
        " return(area,perimetro,color2)\n"
      ],
      "metadata": {
        "id": "lNrUaolYK02A"
      },
      "execution_count": 30,
      "outputs": []
    },
    {
      "cell_type": "code",
      "source": [
        "calcular_area_perimetro()"
      ],
      "metadata": {
        "colab": {
          "base_uri": "https://localhost:8080/"
        },
        "id": "4j-T2QSgLM2z",
        "outputId": "166cf950-4ed9-4e26-dd22-817b4ec92695"
      },
      "execution_count": 29,
      "outputs": [
        {
          "name": "stdout",
          "output_type": "stream",
          "text": [
            "dame el valor de la base 3\n",
            "dame el valor de la altura 3\n",
            "dame el valor de la base verde\n"
          ]
        },
        {
          "output_type": "execute_result",
          "data": {
            "text/plain": [
              "(9.0, 12.0, 'verde')"
            ]
          },
          "metadata": {},
          "execution_count": 29
        }
      ]
    },
    {
      "cell_type": "code",
      "source": [
        "type(calcular_area_perimetro())"
      ],
      "metadata": {
        "colab": {
          "base_uri": "https://localhost:8080/"
        },
        "id": "fy9VUJjuLtzM",
        "outputId": "fb603d8a-1d68-4d99-acf6-cf53081bbd9b"
      },
      "execution_count": 14,
      "outputs": [
        {
          "output_type": "execute_result",
          "data": {
            "text/plain": [
              "tuple"
            ]
          },
          "metadata": {},
          "execution_count": 14
        }
      ]
    }
  ]
}