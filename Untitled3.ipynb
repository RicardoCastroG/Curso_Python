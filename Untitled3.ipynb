{
  "nbformat": 4,
  "nbformat_minor": 0,
  "metadata": {
    "colab": {
      "provenance": [],
      "authorship_tag": "ABX9TyO3a9WLHIF+VcpiMrDcH2kC",
      "include_colab_link": true
    },
    "kernelspec": {
      "name": "python3",
      "display_name": "Python 3"
    },
    "language_info": {
      "name": "python"
    }
  },
  "cells": [
    {
      "cell_type": "markdown",
      "metadata": {
        "id": "view-in-github",
        "colab_type": "text"
      },
      "source": [
        "<a href=\"https://colab.research.google.com/github/RicardoCastroG/Curso_Python/blob/main/Untitled3.ipynb\" target=\"_parent\"><img src=\"https://colab.research.google.com/assets/colab-badge.svg\" alt=\"Open In Colab\"/></a>"
      ]
    },
    {
      "cell_type": "code",
      "source": [
        "diez=10\n",
        "veinte=20\n",
        "print(diez>=veinte)"
      ],
      "metadata": {
        "colab": {
          "base_uri": "https://localhost:8080/"
        },
        "id": "v31sEkGcQHp8",
        "outputId": "d6e3b97b-d2c2-42e4-af43-a99cc50101d2"
      },
      "execution_count": 2,
      "outputs": [
        {
          "output_type": "stream",
          "name": "stdout",
          "text": [
            "False\n"
          ]
        }
      ]
    },
    {
      "cell_type": "code",
      "source": [
        "20<float(\"20.01\")"
      ],
      "metadata": {
        "colab": {
          "base_uri": "https://localhost:8080/"
        },
        "id": "Cv6K5kS8QVfJ",
        "outputId": "2d6c7cd3-5bef-4d2b-9502-cb28e8cdd909"
      },
      "execution_count": 10,
      "outputs": [
        {
          "output_type": "execute_result",
          "data": {
            "text/plain": [
              "True"
            ]
          },
          "metadata": {},
          "execution_count": 10
        }
      ]
    },
    {
      "cell_type": "code",
      "source": [
        "texto_1 = 'Marty! Tienes que venir conmigo, de regreso al futuro!'\n",
        "texto_2 = 'Marty! Tienes que venir conmigo, de regreso a1 futuro!'"
      ],
      "metadata": {
        "id": "wgwdYQECRl1h"
      },
      "execution_count": 11,
      "outputs": []
    },
    {
      "cell_type": "code",
      "source": [
        "texto_1==texto_2"
      ],
      "metadata": {
        "colab": {
          "base_uri": "https://localhost:8080/"
        },
        "id": "Pf3O8YOtRqcL",
        "outputId": "7ddef1bf-5e55-4f7f-fa53-1e56953dbdc9"
      },
      "execution_count": 12,
      "outputs": [
        {
          "output_type": "execute_result",
          "data": {
            "text/plain": [
              "False"
            ]
          },
          "metadata": {},
          "execution_count": 12
        }
      ]
    },
    {
      "cell_type": "code",
      "source": [
        "texto_1!=texto_2"
      ],
      "metadata": {
        "colab": {
          "base_uri": "https://localhost:8080/"
        },
        "id": "nXQStQzuR0m6",
        "outputId": "8a3590f7-a012-44df-bc49-cf35c7e90999"
      },
      "execution_count": 13,
      "outputs": [
        {
          "output_type": "execute_result",
          "data": {
            "text/plain": [
              "True"
            ]
          },
          "metadata": {},
          "execution_count": 13
        }
      ]
    },
    {
      "cell_type": "code",
      "source": [
        "if 3<3:\n",
        "    print(\"si\")\n",
        "else:\n",
        "     print(\"no\")"
      ],
      "metadata": {
        "colab": {
          "base_uri": "https://localhost:8080/"
        },
        "id": "-KGvnrLmR4hG",
        "outputId": "086e3e89-5d4c-4423-e80c-581bafa7ccd1"
      },
      "execution_count": 28,
      "outputs": [
        {
          "output_type": "stream",
          "name": "stdout",
          "text": [
            "dtayudrt\n"
          ]
        }
      ]
    },
    {
      "cell_type": "code",
      "source": [
        "if 3==3:\n",
        "     print(\"si\")"
      ],
      "metadata": {
        "colab": {
          "base_uri": "https://localhost:8080/"
        },
        "id": "pm6ENIzXT_Et",
        "outputId": "bf118df2-9ec2-40aa-e0c3-9922fa3d09ee"
      },
      "execution_count": 27,
      "outputs": [
        {
          "output_type": "stream",
          "name": "stdout",
          "text": [
            "fdyasyd\n"
          ]
        }
      ]
    },
    {
      "cell_type": "code",
      "source": [
        "a=int(input(\"valo 1= \"))\n",
        "b=int(input(\"valor 2= \"))"
      ],
      "metadata": {
        "colab": {
          "base_uri": "https://localhost:8080/"
        },
        "id": "qkIxpGxKVUZr",
        "outputId": "ed904eda-81ac-4155-813d-b4f18ba5b84b"
      },
      "execution_count": 30,
      "outputs": [
        {
          "name": "stdout",
          "output_type": "stream",
          "text": [
            "valo 1= 3\n",
            "valor 2= 3\n"
          ]
        }
      ]
    },
    {
      "cell_type": "code",
      "source": [
        "if a==b:\n",
        "     print(\"igual\")\n",
        "elif b!=a:\n",
        "     print(\"diferentr\")\n",
        "else:\n",
        "     \"error\""
      ],
      "metadata": {
        "colab": {
          "base_uri": "https://localhost:8080/"
        },
        "id": "HOJb4S40WT_M",
        "outputId": "3f5fdf97-b64b-468d-b518-fa62e4f88899"
      },
      "execution_count": 31,
      "outputs": [
        {
          "output_type": "stream",
          "name": "stdout",
          "text": [
            "igual\n"
          ]
        }
      ]
    },
    {
      "cell_type": "code",
      "source": [],
      "metadata": {
        "id": "LuXGbLnaW4qg"
      },
      "execution_count": null,
      "outputs": []
    }
  ]
}