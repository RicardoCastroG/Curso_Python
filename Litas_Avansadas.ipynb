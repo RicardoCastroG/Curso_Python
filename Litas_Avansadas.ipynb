{
  "nbformat": 4,
  "nbformat_minor": 0,
  "metadata": {
    "colab": {
      "provenance": [],
      "authorship_tag": "ABX9TyPk/G85H27qTCti6D6RYTSx",
      "include_colab_link": true
    },
    "kernelspec": {
      "name": "python3",
      "display_name": "Python 3"
    },
    "language_info": {
      "name": "python"
    }
  },
  "cells": [
    {
      "cell_type": "markdown",
      "metadata": {
        "id": "view-in-github",
        "colab_type": "text"
      },
      "source": [
        "<a href=\"https://colab.research.google.com/github/RicardoCastroG/Curso_Python/blob/main/Litas_Avansadas.ipynb\" target=\"_parent\"><img src=\"https://colab.research.google.com/assets/colab-badge.svg\" alt=\"Open In Colab\"/></a>"
      ]
    },
    {
      "cell_type": "markdown",
      "source": [
        "# Litas Avasadas"
      ],
      "metadata": {
        "id": "SGoHEPevkLQ1"
      }
    },
    {
      "cell_type": "code",
      "source": [
        "nueva_lista=[]\n",
        "for i in range(10):\n",
        "  nueva_lista.append(i ** 2)\n"
      ],
      "metadata": {
        "id": "I8b0YF_jkRME"
      },
      "execution_count": 12,
      "outputs": []
    },
    {
      "cell_type": "code",
      "source": [
        "nueva_lista"
      ],
      "metadata": {
        "colab": {
          "base_uri": "https://localhost:8080/"
        },
        "id": "PhU1eBlxl1oG",
        "outputId": "feb60157-a1ec-4329-cffc-d5eac89e6fce"
      },
      "execution_count": 13,
      "outputs": [
        {
          "output_type": "execute_result",
          "data": {
            "text/plain": [
              "[0, 1, 4, 9, 16, 25, 36, 49, 64, 81]"
            ]
          },
          "metadata": {},
          "execution_count": 13
        }
      ]
    },
    {
      "cell_type": "code",
      "source": [
        "nueva_lista=[i ** 2 for i in range(10)]"
      ],
      "metadata": {
        "id": "Sxgf2ROmk2Gp"
      },
      "execution_count": 14,
      "outputs": []
    },
    {
      "cell_type": "code",
      "source": [
        "nueva_lista"
      ],
      "metadata": {
        "colab": {
          "base_uri": "https://localhost:8080/"
        },
        "id": "qm-0YkYKlkHt",
        "outputId": "bbfcd366-324a-43c6-fe1a-0f3e906cd8c9"
      },
      "execution_count": 15,
      "outputs": [
        {
          "output_type": "execute_result",
          "data": {
            "text/plain": [
              "[0, 1, 4, 9, 16, 25, 36, 49, 64, 81]"
            ]
          },
          "metadata": {},
          "execution_count": 15
        }
      ]
    },
    {
      "cell_type": "code",
      "source": [
        "numeros_lista=[0,2,3,5,8,10,11,14]\n",
        "numeros_pares_lista=[]\n",
        "for i in numeros_lista:\n",
        "  if i%2==0:\n",
        "    numeros_pare_lista.append(i)\n"
      ],
      "metadata": {
        "id": "zGAI3p2ElzrM"
      },
      "execution_count": 19,
      "outputs": []
    },
    {
      "cell_type": "code",
      "source": [
        "print(numeros_pare_lista)"
      ],
      "metadata": {
        "colab": {
          "base_uri": "https://localhost:8080/"
        },
        "id": "P5z29js5m5Zn",
        "outputId": "392c4ec3-92a4-4c82-9a02-69a427f887e1"
      },
      "execution_count": 20,
      "outputs": [
        {
          "output_type": "stream",
          "name": "stdout",
          "text": [
            "[0, 2, 8, 10, 14]\n"
          ]
        }
      ]
    },
    {
      "cell_type": "code",
      "source": [
        "numeros_pare_lista=[i for i in numeros_lista if i%2==0]"
      ],
      "metadata": {
        "id": "bhemg6etnIVb"
      },
      "execution_count": 21,
      "outputs": []
    },
    {
      "cell_type": "code",
      "source": [
        "numeros_pare_lista"
      ],
      "metadata": {
        "colab": {
          "base_uri": "https://localhost:8080/"
        },
        "id": "lJs3v-wonkNi",
        "outputId": "68dea1e5-297f-4061-b350-305982d5a99b"
      },
      "execution_count": 22,
      "outputs": [
        {
          "output_type": "execute_result",
          "data": {
            "text/plain": [
              "[0, 2, 8, 10, 14]"
            ]
          },
          "metadata": {},
          "execution_count": 22
        }
      ]
    },
    {
      "cell_type": "markdown",
      "source": [
        "#Funciones lambda"
      ],
      "metadata": {
        "id": "8QWwr8UDqGiu"
      }
    },
    {
      "cell_type": "code",
      "source": [
        "#funciones lambda\n",
        "#funciones escritas en una linea de codigo\n",
        "#no tienen return para devolver una funcion"
      ],
      "metadata": {
        "id": "zTpJho4ZnmM1"
      },
      "execution_count": 23,
      "outputs": []
    },
    {
      "cell_type": "code",
      "source": [
        "def fun(x): return x**2"
      ],
      "metadata": {
        "id": "-1lQrGOLqL0K"
      },
      "execution_count": 24,
      "outputs": []
    },
    {
      "cell_type": "code",
      "source": [
        "fun(4)"
      ],
      "metadata": {
        "colab": {
          "base_uri": "https://localhost:8080/"
        },
        "id": "psCKWXlEqbuK",
        "outputId": "f3a960ed-ecaf-46f2-ab37-1d0bdd27cb03"
      },
      "execution_count": 25,
      "outputs": [
        {
          "output_type": "execute_result",
          "data": {
            "text/plain": [
              "16"
            ]
          },
          "metadata": {},
          "execution_count": 25
        }
      ]
    },
    {
      "cell_type": "code",
      "source": [
        "fun_lambda= lambda x: x**2"
      ],
      "metadata": {
        "id": "3TB_kDQ7qe0-"
      },
      "execution_count": 26,
      "outputs": []
    },
    {
      "cell_type": "code",
      "source": [
        "print(fun_lambda)"
      ],
      "metadata": {
        "colab": {
          "base_uri": "https://localhost:8080/"
        },
        "id": "jHEAr1kIq29M",
        "outputId": "2a859f65-c762-4334-bbcb-43b03fb4a8dc"
      },
      "execution_count": 27,
      "outputs": [
        {
          "output_type": "stream",
          "name": "stdout",
          "text": [
            "<function <lambda> at 0x797299d465f0>\n"
          ]
        }
      ]
    },
    {
      "cell_type": "code",
      "source": [
        "fun_lambda(4)"
      ],
      "metadata": {
        "colab": {
          "base_uri": "https://localhost:8080/"
        },
        "id": "sW9rvKagq53D",
        "outputId": "5b7731e9-566b-497c-d90c-7377cff19a79"
      },
      "execution_count": 28,
      "outputs": [
        {
          "output_type": "execute_result",
          "data": {
            "text/plain": [
              "16"
            ]
          },
          "metadata": {},
          "execution_count": 28
        }
      ]
    },
    {
      "cell_type": "markdown",
      "source": [
        "#Sorted\n",
        "ordena alfabeticamente"
      ],
      "metadata": {
        "id": "9W_0XJgDrKKQ"
      }
    },
    {
      "cell_type": "code",
      "source": [
        "mi_lista=[\"Appel\",\"appel\",\"Ball\",\"ball\"]"
      ],
      "metadata": {
        "id": "PaSWXgRQq8rH"
      },
      "execution_count": 31,
      "outputs": []
    },
    {
      "cell_type": "code",
      "source": [
        "sorted(mi_lista)"
      ],
      "metadata": {
        "colab": {
          "base_uri": "https://localhost:8080/"
        },
        "id": "mduKqcOItYD4",
        "outputId": "d6155142-c855-4b9c-ce7e-13caaed7bb0c"
      },
      "execution_count": 32,
      "outputs": [
        {
          "output_type": "execute_result",
          "data": {
            "text/plain": [
              "['Appel', 'Ball', 'appel', 'ball']"
            ]
          },
          "metadata": {},
          "execution_count": 32
        }
      ]
    },
    {
      "cell_type": "code",
      "source": [
        "sorted(mi_lista,key=lambda x: x.lower())"
      ],
      "metadata": {
        "colab": {
          "base_uri": "https://localhost:8080/"
        },
        "id": "-RWsI21NtoIy",
        "outputId": "b98b1525-34f3-45f9-e727-4ea41c66050d"
      },
      "execution_count": 33,
      "outputs": [
        {
          "output_type": "execute_result",
          "data": {
            "text/plain": [
              "['Appel', 'appel', 'Ball', 'ball']"
            ]
          },
          "metadata": {},
          "execution_count": 33
        }
      ]
    },
    {
      "cell_type": "markdown",
      "source": [
        "#Filter\n",
        "nos regresa una nueva luista de cada valor que cuntenga True"
      ],
      "metadata": {
        "id": "tVTwROpHuHYx"
      }
    },
    {
      "cell_type": "code",
      "source": [
        "help(filter)"
      ],
      "metadata": {
        "id": "QHOC7hPlt_8k"
      },
      "execution_count": null,
      "outputs": []
    },
    {
      "cell_type": "code",
      "source": [
        "numeros_lista=[2,18,9,22,17,24,8,12,27]"
      ],
      "metadata": {
        "id": "PvlE4vY-uaCi"
      },
      "execution_count": 51,
      "outputs": []
    },
    {
      "cell_type": "code",
      "source": [
        "filter(lambda numero:numero%3==0,numeros_lista)"
      ],
      "metadata": {
        "colab": {
          "base_uri": "https://localhost:8080/"
        },
        "id": "rtqvnFLZu8bO",
        "outputId": "fce0cd05-e306-4547-eaea-1822a8648670"
      },
      "execution_count": 52,
      "outputs": [
        {
          "output_type": "execute_result",
          "data": {
            "text/plain": [
              "<filter at 0x797299ce8b50>"
            ]
          },
          "metadata": {},
          "execution_count": 52
        }
      ]
    },
    {
      "cell_type": "code",
      "source": [
        "list(filter(lambda numero:numero%3==0,numeros_lista))"
      ],
      "metadata": {
        "colab": {
          "base_uri": "https://localhost:8080/"
        },
        "id": "njFWuukmvLBC",
        "outputId": "0a82e03b-5418-4baf-ea28-ffeb5e4e1466"
      },
      "execution_count": 53,
      "outputs": [
        {
          "output_type": "execute_result",
          "data": {
            "text/plain": [
              "[18, 9, 24, 12, 27]"
            ]
          },
          "metadata": {},
          "execution_count": 53
        }
      ]
    },
    {
      "cell_type": "markdown",
      "source": [
        "#Map\n"
      ],
      "metadata": {
        "id": "6g6ngo6kw_1Y"
      }
    },
    {
      "cell_type": "code",
      "source": [
        "numeros_lista=list(range(1,11))\n",
        "numeros_lista"
      ],
      "metadata": {
        "colab": {
          "base_uri": "https://localhost:8080/"
        },
        "id": "mzkL1Og9vXsO",
        "outputId": "2885be6c-122b-46ec-e38e-46ef63975ef6"
      },
      "execution_count": 57,
      "outputs": [
        {
          "output_type": "execute_result",
          "data": {
            "text/plain": [
              "[1, 2, 3, 4, 5, 6, 7, 8, 9, 10]"
            ]
          },
          "metadata": {},
          "execution_count": 57
        }
      ]
    },
    {
      "cell_type": "code",
      "source": [
        "cuadrados_lista=[]\n",
        "for numero in numeros_lista:\n",
        "  cuadrado=numero**2\n",
        "  cuadrados_lista.append(cuadrado)"
      ],
      "metadata": {
        "id": "MYnAosH2xL35"
      },
      "execution_count": 58,
      "outputs": []
    },
    {
      "cell_type": "code",
      "source": [
        "list(map(lambda numero:numero**2,numeros_lista))"
      ],
      "metadata": {
        "colab": {
          "base_uri": "https://localhost:8080/"
        },
        "id": "J4nD-LctxqLU",
        "outputId": "f4a0db18-b694-4500-acbd-c9cfbd94f0ac"
      },
      "execution_count": 61,
      "outputs": [
        {
          "output_type": "execute_result",
          "data": {
            "text/plain": [
              "[1, 4, 9, 16, 25, 36, 49, 64, 81, 100]"
            ]
          },
          "metadata": {},
          "execution_count": 61
        }
      ]
    },
    {
      "cell_type": "code",
      "source": [
        "texto=\"Volver al futuro\"\n",
        "list(map(lambda p:(p.upper(),p.lower(),len(p)),texto.split()))"
      ],
      "metadata": {
        "colab": {
          "base_uri": "https://localhost:8080/"
        },
        "id": "nFK5nwS5x0ze",
        "outputId": "02e1662f-d46d-456a-f190-01450b8e7e8c"
      },
      "execution_count": 66,
      "outputs": [
        {
          "output_type": "execute_result",
          "data": {
            "text/plain": [
              "[('VOLVER', 'volver', 6), ('AL', 'al', 2), ('FUTURO', 'futuro', 6)]"
            ]
          },
          "metadata": {},
          "execution_count": 66
        }
      ]
    },
    {
      "cell_type": "markdown",
      "source": [
        "#reduce"
      ],
      "metadata": {
        "id": "mkyh-54BzgrS"
      }
    },
    {
      "cell_type": "code",
      "source": [
        "from functools import reduce\n",
        "def suma(a,b):\n",
        "  print(f\"a={a},b={b},{a}+{b} = {a+b} \")\n",
        "  return a+b\n",
        "\n",
        "scores=[75,65,80,95,50]\n",
        "total=reduce(suma, scores)\n",
        "print(total)\n"
      ],
      "metadata": {
        "colab": {
          "base_uri": "https://localhost:8080/"
        },
        "id": "RE12RGVvyjsK",
        "outputId": "36ec6c8b-be4d-48cf-8fa5-a9992840d1af"
      },
      "execution_count": 71,
      "outputs": [
        {
          "output_type": "stream",
          "name": "stdout",
          "text": [
            "a=75,b=65,75+65 = 140 \n",
            "a=140,b=80,140+80 = 220 \n",
            "a=220,b=95,220+95 = 315 \n",
            "a=315,b=50,315+50 = 365 \n",
            "365\n"
          ]
        }
      ]
    },
    {
      "cell_type": "code",
      "source": [
        "reduce(lambda a,b:a+b,scores)"
      ],
      "metadata": {
        "colab": {
          "base_uri": "https://localhost:8080/"
        },
        "id": "9TL4KGw516qu",
        "outputId": "a1a2dfd4-cc5f-4229-c9f0-9210dea681cf"
      },
      "execution_count": 73,
      "outputs": [
        {
          "output_type": "execute_result",
          "data": {
            "text/plain": [
              "365"
            ]
          },
          "metadata": {},
          "execution_count": 73
        }
      ]
    },
    {
      "cell_type": "code",
      "source": [],
      "metadata": {
        "id": "OvoVMzr_4RG2"
      },
      "execution_count": null,
      "outputs": []
    }
  ]
}