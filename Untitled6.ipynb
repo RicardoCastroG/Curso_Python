{
  "nbformat": 4,
  "nbformat_minor": 0,
  "metadata": {
    "colab": {
      "provenance": [],
      "authorship_tag": "ABX9TyPYJzYebugOCJial7PPyIaY",
      "include_colab_link": true
    },
    "kernelspec": {
      "name": "python3",
      "display_name": "Python 3"
    },
    "language_info": {
      "name": "python"
    }
  },
  "cells": [
    {
      "cell_type": "markdown",
      "metadata": {
        "id": "view-in-github",
        "colab_type": "text"
      },
      "source": [
        "<a href=\"https://colab.research.google.com/github/RicardoCastroG/Curso_Python/blob/main/Untitled6.ipynb\" target=\"_parent\"><img src=\"https://colab.research.google.com/assets/colab-badge.svg\" alt=\"Open In Colab\"/></a>"
      ]
    },
    {
      "cell_type": "code",
      "execution_count": 1,
      "metadata": {
        "colab": {
          "base_uri": "https://localhost:8080/"
        },
        "id": "-MjPrd5LSOqK",
        "outputId": "028b6f49-6fe3-46f0-a85e-8474a3aeb373"
      },
      "outputs": [
        {
          "output_type": "stream",
          "name": "stdout",
          "text": [
            "hola mundo\n",
            "hola mundo\n",
            "hola mundo\n",
            "hola mundo\n",
            "hola mundo\n",
            "hola mundo\n",
            "hola mundo\n",
            "hola mundo\n",
            "hola mundo\n",
            "hola mundo\n"
          ]
        }
      ],
      "source": [
        "for i in range(10):\n",
        "  print(\"hola mundo\")"
      ]
    },
    {
      "cell_type": "code",
      "source": [
        "for i in range(10):\n",
        "  print(i,\"hola mundo\")"
      ],
      "metadata": {
        "colab": {
          "base_uri": "https://localhost:8080/"
        },
        "id": "9IElFnmaS_2D",
        "outputId": "1ea7aea2-818f-4b4b-bea4-2cfe54bb1edb"
      },
      "execution_count": 2,
      "outputs": [
        {
          "output_type": "stream",
          "name": "stdout",
          "text": [
            "0 hola mundo\n",
            "1 hola mundo\n",
            "2 hola mundo\n",
            "3 hola mundo\n",
            "4 hola mundo\n",
            "5 hola mundo\n",
            "6 hola mundo\n",
            "7 hola mundo\n",
            "8 hola mundo\n",
            "9 hola mundo\n"
          ]
        }
      ]
    },
    {
      "cell_type": "code",
      "source": [
        "for i in range(1,10):\n",
        "  print(i,\"hola mundo\")"
      ],
      "metadata": {
        "colab": {
          "base_uri": "https://localhost:8080/"
        },
        "id": "FFZHQYUuTFmh",
        "outputId": "0f6f5596-e35d-4482-f61b-4fc09e962872"
      },
      "execution_count": 3,
      "outputs": [
        {
          "output_type": "stream",
          "name": "stdout",
          "text": [
            "1 hola mundo\n",
            "2 hola mundo\n",
            "3 hola mundo\n",
            "4 hola mundo\n",
            "5 hola mundo\n",
            "6 hola mundo\n",
            "7 hola mundo\n",
            "8 hola mundo\n",
            "9 hola mundo\n"
          ]
        }
      ]
    },
    {
      "cell_type": "code",
      "source": [
        "for i in range(1,11):\n",
        "  print(i,\"hola mundo\")"
      ],
      "metadata": {
        "colab": {
          "base_uri": "https://localhost:8080/"
        },
        "id": "zZneDqhwTKHj",
        "outputId": "2fca8109-fbbd-4311-8b9c-a1aa67766107"
      },
      "execution_count": 4,
      "outputs": [
        {
          "output_type": "stream",
          "name": "stdout",
          "text": [
            "1 hola mundo\n",
            "2 hola mundo\n",
            "3 hola mundo\n",
            "4 hola mundo\n",
            "5 hola mundo\n",
            "6 hola mundo\n",
            "7 hola mundo\n",
            "8 hola mundo\n",
            "9 hola mundo\n",
            "10 hola mundo\n"
          ]
        }
      ]
    },
    {
      "cell_type": "code",
      "source": [
        "n=int(input(\"dame un valor\"))\n",
        "for i in range(n):\n",
        "  print(\"hola mundo\")"
      ],
      "metadata": {
        "colab": {
          "base_uri": "https://localhost:8080/"
        },
        "id": "1JMzQ2BlTNjB",
        "outputId": "a4d5bb3b-f1e0-4647-873d-59a561ebc269"
      },
      "execution_count": 6,
      "outputs": [
        {
          "output_type": "stream",
          "name": "stdout",
          "text": [
            "dame un valor10\n",
            "hola mundo\n",
            "hola mundo\n",
            "hola mundo\n",
            "hola mundo\n",
            "hola mundo\n",
            "hola mundo\n",
            "hola mundo\n",
            "hola mundo\n",
            "hola mundo\n",
            "hola mundo\n"
          ]
        }
      ]
    },
    {
      "cell_type": "code",
      "source": [
        "n=int(input(\"dame un valor\"))\n",
        "for i in range(1,n+1):\n",
        "  print(i,\"hola mundo\")"
      ],
      "metadata": {
        "colab": {
          "base_uri": "https://localhost:8080/"
        },
        "id": "Kq1YshEBTmPs",
        "outputId": "18394031-fdbb-4d4e-fb3c-c237ccb5345a"
      },
      "execution_count": 8,
      "outputs": [
        {
          "output_type": "stream",
          "name": "stdout",
          "text": [
            "dame un valor10\n",
            "1 hola mundo\n",
            "2 hola mundo\n",
            "3 hola mundo\n",
            "4 hola mundo\n",
            "5 hola mundo\n",
            "6 hola mundo\n",
            "7 hola mundo\n",
            "8 hola mundo\n",
            "9 hola mundo\n",
            "10 hola mundo\n"
          ]
        }
      ]
    },
    {
      "cell_type": "code",
      "source": [
        "for i in range(1,11):\n",
        "  if i%2==0:\n",
        "    print(i)\n",
        "    continue\n",
        "  else:\n",
        "    print(i,\"hola mundo\")"
      ],
      "metadata": {
        "colab": {
          "base_uri": "https://localhost:8080/"
        },
        "id": "Y91zYkjeUBH2",
        "outputId": "8dd50498-b57d-482f-c329-2ff14bff6bc4"
      },
      "execution_count": 12,
      "outputs": [
        {
          "output_type": "stream",
          "name": "stdout",
          "text": [
            "1 hola mundo\n",
            "2\n",
            "3 hola mundo\n",
            "4\n",
            "5 hola mundo\n",
            "6\n",
            "7 hola mundo\n",
            "8\n",
            "9 hola mundo\n",
            "10\n"
          ]
        }
      ]
    },
    {
      "cell_type": "code",
      "source": [
        "for i in range(1,11):\n",
        "  if i%2==0:\n",
        "    print(i)\n",
        "  else:\n",
        "    print(i,\"hola mundo\")"
      ],
      "metadata": {
        "colab": {
          "base_uri": "https://localhost:8080/"
        },
        "id": "NQzofV8pXOkp",
        "outputId": "72b9c9c0-8614-4ca2-c9f2-0f8588849ab8"
      },
      "execution_count": 13,
      "outputs": [
        {
          "output_type": "stream",
          "name": "stdout",
          "text": [
            "1 hola mundo\n",
            "2\n",
            "3 hola mundo\n",
            "4\n",
            "5 hola mundo\n",
            "6\n",
            "7 hola mundo\n",
            "8\n",
            "9 hola mundo\n",
            "10\n"
          ]
        }
      ]
    },
    {
      "cell_type": "code",
      "source": [
        "for i in range(1,11):\n",
        "  if i%2==0:\n",
        "    print(i)\n",
        "    break\n",
        "  else:\n",
        "    print(i,\"hola mundo\")"
      ],
      "metadata": {
        "colab": {
          "base_uri": "https://localhost:8080/"
        },
        "id": "WSkRR8SlXnAs",
        "outputId": "5462ce09-4ce3-4be5-a9b7-7c1e633c7b83"
      },
      "execution_count": 14,
      "outputs": [
        {
          "output_type": "stream",
          "name": "stdout",
          "text": [
            "1 hola mundo\n",
            "2\n"
          ]
        }
      ]
    },
    {
      "cell_type": "code",
      "source": [
        "for i in range(10):\n",
        "  a=int(input(\"dime un valor que no sea 0 \"))\n",
        "  if a==0:\n",
        "    print(\"el numero es 0\")\n",
        "    break\n",
        "  else:\n",
        "    print(a)\n",
        ""
      ],
      "metadata": {
        "colab": {
          "base_uri": "https://localhost:8080/"
        },
        "id": "BOSMNh04XtA1",
        "outputId": "23a9a0d0-970d-44f1-8dc7-2d4f6a9267b9"
      },
      "execution_count": 56,
      "outputs": [
        {
          "output_type": "stream",
          "name": "stdout",
          "text": [
            "dime un valor que no sea 0 0\n",
            "el numero es 0\n"
          ]
        }
      ]
    },
    {
      "cell_type": "code",
      "source": [
        "for i in range(1,11):\n",
        "  i=0\n",
        "  print(i,\"hola mundo\")"
      ],
      "metadata": {
        "colab": {
          "base_uri": "https://localhost:8080/"
        },
        "id": "buJRaTqsYgcT",
        "outputId": "e15dde9c-30d2-4644-bf91-5b13f64df597"
      },
      "execution_count": 17,
      "outputs": [
        {
          "output_type": "stream",
          "name": "stdout",
          "text": [
            "0 hola mundo\n",
            "0 hola mundo\n",
            "0 hola mundo\n",
            "0 hola mundo\n",
            "0 hola mundo\n",
            "0 hola mundo\n",
            "0 hola mundo\n",
            "0 hola mundo\n",
            "0 hola mundo\n",
            "0 hola mundo\n"
          ]
        }
      ]
    },
    {
      "cell_type": "code",
      "source": [
        "while True:\n",
        "  print(\"hola mundo\")"
      ],
      "metadata": {
        "id": "k2YCoTgvcldM"
      },
      "execution_count": null,
      "outputs": []
    },
    {
      "cell_type": "code",
      "source": [
        "i=0\n",
        "while True:\n",
        "  i=i+1\n",
        "  print(\"hola mundo\")\n",
        "  if i==20:\n",
        "    i=0\n",
        "    break"
      ],
      "metadata": {
        "colab": {
          "base_uri": "https://localhost:8080/"
        },
        "id": "YIFfGvfGc8xE",
        "outputId": "6002a0fe-8baa-4ce4-d667-b2353808cae9"
      },
      "execution_count": 38,
      "outputs": [
        {
          "output_type": "stream",
          "name": "stdout",
          "text": [
            "hola mundo\n",
            "hola mundo\n",
            "hola mundo\n",
            "hola mundo\n",
            "hola mundo\n",
            "hola mundo\n",
            "hola mundo\n",
            "hola mundo\n",
            "hola mundo\n",
            "hola mundo\n",
            "hola mundo\n",
            "hola mundo\n",
            "hola mundo\n",
            "hola mundo\n",
            "hola mundo\n",
            "hola mundo\n",
            "hola mundo\n",
            "hola mundo\n",
            "hola mundo\n",
            "hola mundo\n"
          ]
        }
      ]
    },
    {
      "cell_type": "code",
      "source": [
        "i=0\n",
        "while True:\n",
        "  i=i+1\n",
        "  print(\"hola mundo\")\n",
        "  if i==20:\n",
        "    i=0\n",
        "    break"
      ],
      "metadata": {
        "colab": {
          "base_uri": "https://localhost:8080/"
        },
        "id": "tlEgJeMddPr3",
        "outputId": "6d65990b-2e2f-4e3b-db5a-0c3dbb6d6356"
      },
      "execution_count": 62,
      "outputs": [
        {
          "output_type": "stream",
          "name": "stdout",
          "text": [
            "hola mundo\n",
            "hola mundo\n",
            "hola mundo\n",
            "hola mundo\n",
            "hola mundo\n",
            "hola mundo\n",
            "hola mundo\n",
            "hola mundo\n",
            "hola mundo\n",
            "hola mundo\n",
            "hola mundo\n",
            "hola mundo\n",
            "hola mundo\n",
            "hola mundo\n",
            "hola mundo\n",
            "hola mundo\n",
            "hola mundo\n",
            "hola mundo\n",
            "hola mundo\n",
            "hola mundo\n"
          ]
        }
      ]
    },
    {
      "cell_type": "code",
      "source": [
        "adj = [\"roja\", \"grande\", \"dulce\"]\n",
        "fruits = [\"manzana\", \"platano\", \"cereza\"]"
      ],
      "metadata": {
        "id": "RHMMPGK3gctr"
      },
      "execution_count": 40,
      "outputs": []
    },
    {
      "cell_type": "code",
      "source": [
        "for x in adj:\n",
        "  for y in fruits:\n",
        "   print(x,y)"
      ],
      "metadata": {
        "colab": {
          "base_uri": "https://localhost:8080/"
        },
        "id": "9Qq8tXkpjAwT",
        "outputId": "70b8741b-bca2-4801-fa17-9efa485d7dcb"
      },
      "execution_count": 54,
      "outputs": [
        {
          "output_type": "stream",
          "name": "stdout",
          "text": [
            "roja manzana\n",
            "roja platano\n",
            "roja cereza\n",
            "grande manzana\n",
            "grande platano\n",
            "grande cereza\n",
            "dulce manzana\n",
            "dulce platano\n",
            "dulce cereza\n"
          ]
        }
      ]
    },
    {
      "cell_type": "code",
      "source": [
        "for i in range(3):\n",
        "  print(f\"{adj[0]} {fruits[i]} \")\n",
        "for i in range(3):\n",
        "  print(f\"{adj[1]} {fruits[i]} \")\n",
        "for i in range(3):\n",
        "  print(f\"{adj[2]} {fruits[i]} \")"
      ],
      "metadata": {
        "colab": {
          "base_uri": "https://localhost:8080/"
        },
        "id": "qe98G88rfEPH",
        "outputId": "98dfc8fa-3b08-4e0e-aca7-5f94f2be872e"
      },
      "execution_count": 50,
      "outputs": [
        {
          "output_type": "stream",
          "name": "stdout",
          "text": [
            "roja manzana \n",
            "roja platano \n",
            "roja cereza \n",
            "grande manzana \n",
            "grande platano \n",
            "grande cereza \n",
            "dulce manzana \n",
            "dulce platano \n",
            "dulce cereza \n"
          ]
        }
      ]
    },
    {
      "cell_type": "code",
      "source": [
        "for i in range(3):\n",
        "  print(f\"{adj[0]} {fruits[i]} \")\n",
        "  print(f\"{adj[1]} {fruits[i]} \")\n",
        "  print(f\"{adj[2]} {fruits[i]} \")"
      ],
      "metadata": {
        "colab": {
          "base_uri": "https://localhost:8080/"
        },
        "id": "Cq8l-_OkhZxx",
        "outputId": "f7cb6dcb-1e22-48d0-c145-ec3c31745bb3"
      },
      "execution_count": 51,
      "outputs": [
        {
          "output_type": "stream",
          "name": "stdout",
          "text": [
            "roja manzana \n",
            "grande manzana \n",
            "dulce manzana \n",
            "roja platano \n",
            "grande platano \n",
            "dulce platano \n",
            "roja cereza \n",
            "grande cereza \n",
            "dulce cereza \n"
          ]
        }
      ]
    },
    {
      "cell_type": "code",
      "source": [
        "n=int(input(\"dame tu edad\"))\n",
        "for i in range(1,n+1):\n",
        "  print(f\"{i} años cumplidos \")"
      ],
      "metadata": {
        "colab": {
          "base_uri": "https://localhost:8080/"
        },
        "id": "4DprAShYh0gm",
        "outputId": "73e1210f-022b-474e-e293-cfa5458e7b2b"
      },
      "execution_count": 55,
      "outputs": [
        {
          "output_type": "stream",
          "name": "stdout",
          "text": [
            "dame tu edad18\n",
            "1 años cumplidos \n",
            "2 años cumplidos \n",
            "3 años cumplidos \n",
            "4 años cumplidos \n",
            "5 años cumplidos \n",
            "6 años cumplidos \n",
            "7 años cumplidos \n",
            "8 años cumplidos \n",
            "9 años cumplidos \n",
            "10 años cumplidos \n",
            "11 años cumplidos \n",
            "12 años cumplidos \n",
            "13 años cumplidos \n",
            "14 años cumplidos \n",
            "15 años cumplidos \n",
            "16 años cumplidos \n",
            "17 años cumplidos \n",
            "18 años cumplidos \n"
          ]
        }
      ]
    },
    {
      "cell_type": "code",
      "source": [
        "suma=0\n",
        "while True:\n",
        "  a=int(input(\"dime un valor que no sea 0 \"))\n",
        "  suma+=a\n",
        "  if a==0:\n",
        "    print(\"la suma es\",suma)\n",
        "    break\n",
        "\n",
        ""
      ],
      "metadata": {
        "colab": {
          "base_uri": "https://localhost:8080/"
        },
        "id": "lRLqOgJ4ju2P",
        "outputId": "956abae5-a53b-49ae-ac27-8c3f04d1f0e5"
      },
      "execution_count": 63,
      "outputs": [
        {
          "output_type": "stream",
          "name": "stdout",
          "text": [
            "dime un valor que no sea 0 3\n",
            "dime un valor que no sea 0 3\n",
            "dime un valor que no sea 0 3\n",
            "dime un valor que no sea 0 3\n",
            "dime un valor que no sea 0 3\n",
            "dime un valor que no sea 0 3\n",
            "dime un valor que no sea 0 3\n",
            "dime un valor que no sea 0 3\n",
            "dime un valor que no sea 0 3\n",
            "dime un valor que no sea 0 3\n",
            "dime un valor que no sea 0 3\n",
            "dime un valor que no sea 0 3\n",
            "dime un valor que no sea 0 3\n",
            "dime un valor que no sea 0 0\n",
            "la suma es 39\n"
          ]
        }
      ]
    },
    {
      "cell_type": "code",
      "source": [],
      "metadata": {
        "id": "ptUb12ZykkKe"
      },
      "execution_count": null,
      "outputs": []
    }
  ]
}