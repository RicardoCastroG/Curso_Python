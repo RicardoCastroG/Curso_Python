{
  "nbformat": 4,
  "nbformat_minor": 0,
  "metadata": {
    "colab": {
      "provenance": [],
      "authorship_tag": "ABX9TyPRcrs7oSOX9VFEozc8RJee",
      "include_colab_link": true
    },
    "kernelspec": {
      "name": "python3",
      "display_name": "Python 3"
    },
    "language_info": {
      "name": "python"
    }
  },
  "cells": [
    {
      "cell_type": "markdown",
      "metadata": {
        "id": "view-in-github",
        "colab_type": "text"
      },
      "source": [
        "<a href=\"https://colab.research.google.com/github/RicardoCastroG/Curso_Python/blob/main/impuestos.ipynb\" target=\"_parent\"><img src=\"https://colab.research.google.com/assets/colab-badge.svg\" alt=\"Open In Colab\"/></a>"
      ]
    },
    {
      "cell_type": "markdown",
      "source": [
        "#Cantidad de immpuestos que debe de pagar una persona"
      ],
      "metadata": {
        "id": "4YZ1oRWxGGrI"
      }
    },
    {
      "cell_type": "code",
      "execution_count": 8,
      "metadata": {
        "colab": {
          "base_uri": "https://localhost:8080/"
        },
        "id": "Yyer69xlGAXi",
        "outputId": "af4793d1-b15c-42a7-94d1-9966c963289c"
      },
      "outputs": [
        {
          "output_type": "stream",
          "name": "stdout",
          "text": [
            "cuanto ganas? 3000\n",
            "pagaras  900.0\n"
          ]
        }
      ],
      "source": [
        "gano=float(input(\"cuanto ganas? \"))\n",
        "if gano<=1000:\n",
        "  impuesto=gano*.05\n",
        "  print(\"pagaras \",impuesto)\n",
        "elif gano>1000 and gano<2000:\n",
        "  impuesto=gano*.15\n",
        "  print(\"pagaras \",impuesto)\n",
        "elif gano>=2000 and gano<3000:\n",
        "  impuesto=gano*.2\n",
        "  print(\"pagaras \",impuesto)\n",
        "elif gano>=3000:\n",
        "  impuesto=gano*.3\n",
        "  print(\"pagaras \",impuesto)\n",
        "else:\n",
        "  print(\"error\")\n",
        "\n"
      ]
    }
  ]
}