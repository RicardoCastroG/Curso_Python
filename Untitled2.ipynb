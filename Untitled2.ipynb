{
  "nbformat": 4,
  "nbformat_minor": 0,
  "metadata": {
    "colab": {
      "provenance": [],
      "authorship_tag": "ABX9TyN19MbsS80p6w0Vix1pNuVd",
      "include_colab_link": true
    },
    "kernelspec": {
      "name": "python3",
      "display_name": "Python 3"
    },
    "language_info": {
      "name": "python"
    }
  },
  "cells": [
    {
      "cell_type": "markdown",
      "metadata": {
        "id": "view-in-github",
        "colab_type": "text"
      },
      "source": [
        "<a href=\"https://colab.research.google.com/github/RicardoCastroG/Curso_Python/blob/main/Untitled2.ipynb\" target=\"_parent\"><img src=\"https://colab.research.google.com/assets/colab-badge.svg\" alt=\"Open In Colab\"/></a>"
      ]
    },
    {
      "cell_type": "markdown",
      "source": [
        "# Calcular el area y el perimetro de un circulo"
      ],
      "metadata": {
        "id": "EO2DVWwTHJsG"
      }
    },
    {
      "cell_type": "code",
      "execution_count": 40,
      "metadata": {
        "id": "f4dE9j5RDzEt"
      },
      "outputs": [],
      "source": [
        "#calcular el area de un circulo\n",
        "def area_circulo(radio):\n",
        "  area=pi*(radio**2)\n",
        "  return area"
      ]
    },
    {
      "cell_type": "code",
      "source": [
        "#calcular el perimetro de un circulo\n",
        "def perimetro_circulo(radio):\n",
        "  perimetro=pi*2*radio\n",
        "  return perimetro"
      ],
      "metadata": {
        "id": "sjPIl0oBE76s"
      },
      "execution_count": 39,
      "outputs": []
    },
    {
      "cell_type": "code",
      "source": [
        "radio=float(input(\"dime el valor del radio \"))\n",
        "pi=3.1416"
      ],
      "metadata": {
        "colab": {
          "base_uri": "https://localhost:8080/"
        },
        "id": "7zh5HgrgGyuH",
        "outputId": "ec9bde16-fcaa-49e6-bafb-2ee84a61541a"
      },
      "execution_count": 36,
      "outputs": [
        {
          "name": "stdout",
          "output_type": "stream",
          "text": [
            "dime el valor del radio 9\n"
          ]
        }
      ]
    },
    {
      "cell_type": "code",
      "source": [
        "area_circulo(radio)"
      ],
      "metadata": {
        "colab": {
          "base_uri": "https://localhost:8080/"
        },
        "id": "rHn7nK2OFJoO",
        "outputId": "a39159c5-8c6b-4770-9ec6-1d3f8c57f02d"
      },
      "execution_count": 37,
      "outputs": [
        {
          "output_type": "execute_result",
          "data": {
            "text/plain": [
              "254.46959999999999"
            ]
          },
          "metadata": {},
          "execution_count": 37
        }
      ]
    },
    {
      "cell_type": "code",
      "source": [
        "perimetro_circulo(radio)"
      ],
      "metadata": {
        "colab": {
          "base_uri": "https://localhost:8080/"
        },
        "id": "hsmBZf-nGsJa",
        "outputId": "c2dc4636-de97-4898-b10d-6e9843799b50"
      },
      "execution_count": 38,
      "outputs": [
        {
          "output_type": "execute_result",
          "data": {
            "text/plain": [
              "56.5488"
            ]
          },
          "metadata": {},
          "execution_count": 38
        }
      ]
    },
    {
      "cell_type": "markdown",
      "source": [
        "#Calcular el area y el perimetro de un rectangulo"
      ],
      "metadata": {
        "id": "oV60ycAEHSZP"
      }
    },
    {
      "cell_type": "code",
      "source": [
        "#calcular el perimetro de un rectangulo\n",
        "def perimetro_rectangulo(base,altura):\n",
        "  perimetro=(base*2)+(altura*2)\n",
        "  return perimetro"
      ],
      "metadata": {
        "id": "RssmwCSKHYy2"
      },
      "execution_count": 41,
      "outputs": []
    },
    {
      "cell_type": "code",
      "source": [
        "#calcular el area de un rectangulo\n",
        "def area_rectangulo(base,altura):\n",
        "  area=base*altura\n",
        "  return area"
      ],
      "metadata": {
        "id": "DGmbbALlH0yg"
      },
      "execution_count": 42,
      "outputs": []
    },
    {
      "cell_type": "code",
      "source": [
        "base=float(input(\"dime el valor de la base \"))\n",
        "altura=float(input(\"dime el valor de la altura \"))"
      ],
      "metadata": {
        "colab": {
          "base_uri": "https://localhost:8080/"
        },
        "id": "-8ERWYWoIG9G",
        "outputId": "252fddc0-eb1b-4173-d71c-cace64385266"
      },
      "execution_count": 43,
      "outputs": [
        {
          "name": "stdout",
          "output_type": "stream",
          "text": [
            "dime el valor de la base 3\n",
            "dime el valor de la altura 3\n"
          ]
        }
      ]
    },
    {
      "cell_type": "code",
      "source": [
        "area_rectangulo(base,altura)"
      ],
      "metadata": {
        "colab": {
          "base_uri": "https://localhost:8080/"
        },
        "id": "6lBvQ63vIUMb",
        "outputId": "63b89ad9-86eb-40e2-9cbc-e4b2aafe4e5e"
      },
      "execution_count": 44,
      "outputs": [
        {
          "output_type": "execute_result",
          "data": {
            "text/plain": [
              "9.0"
            ]
          },
          "metadata": {},
          "execution_count": 44
        }
      ]
    },
    {
      "cell_type": "code",
      "source": [
        "perimetro_rectangulo(base,altura)"
      ],
      "metadata": {
        "colab": {
          "base_uri": "https://localhost:8080/"
        },
        "id": "Seq6FoQnIiA_",
        "outputId": "0d9bc3ec-a8f7-4b9e-df36-4dac5b8cd264"
      },
      "execution_count": 47,
      "outputs": [
        {
          "output_type": "execute_result",
          "data": {
            "text/plain": [
              "12.0"
            ]
          },
          "metadata": {},
          "execution_count": 47
        }
      ]
    }
  ]
}