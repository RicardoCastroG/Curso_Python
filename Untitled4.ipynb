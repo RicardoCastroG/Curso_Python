{
  "nbformat": 4,
  "nbformat_minor": 0,
  "metadata": {
    "colab": {
      "provenance": [],
      "authorship_tag": "ABX9TyO+ZVQ0xM1Eym2MmOWj5n5A",
      "include_colab_link": true
    },
    "kernelspec": {
      "name": "python3",
      "display_name": "Python 3"
    },
    "language_info": {
      "name": "python"
    }
  },
  "cells": [
    {
      "cell_type": "markdown",
      "metadata": {
        "id": "view-in-github",
        "colab_type": "text"
      },
      "source": [
        "<a href=\"https://colab.research.google.com/github/RicardoCastroG/Curso_Python/blob/main/Untitled4.ipynb\" target=\"_parent\"><img src=\"https://colab.research.google.com/assets/colab-badge.svg\" alt=\"Open In Colab\"/></a>"
      ]
    },
    {
      "cell_type": "code",
      "execution_count": null,
      "metadata": {
        "colab": {
          "base_uri": "https://localhost:8080/"
        },
        "id": "x7FGzijBYUCD",
        "outputId": "add7a3cc-ef5f-4cea-bc1f-16bf96f8d3a3"
      },
      "outputs": [
        {
          "name": "stdout",
          "output_type": "stream",
          "text": [
            "que dia es martes\n"
          ]
        }
      ],
      "source": [
        "dia=str(input(\"que dia es \"))"
      ]
    },
    {
      "cell_type": "code",
      "source": [
        "if dia==\"lunes\":\n",
        "     print(\"\"\"Lunes!\n",
        "    Principio de semana\n",
        "    Principio de semana?\n",
        "    No voy a trabajar!\n",
        "    No vo´a tabajá!\n",
        "    No vo´a tabajá!\n",
        "    No vo´a tabajá!\n",
        "    No vo´a tabajá!\"\"\")\n",
        "elif dia==\"martes\":\n",
        "    print(\"\"\"Martes!\n",
        "    Ni te cases ni te embarques\n",
        "    Pa´ que voy a arriesgarme\n",
        "    No voy a trabajar!\n",
        "    No vo´a tabajá!...(4)\n",
        "    Miercoles!\n",
        "   nSe casa la patrona\n",
        "   Ay que pachangona!\n",
        "   No voy a trabajar!\n",
        "  No vo´a tabajá!...(4)\"\"\")\n",
        "elif dia==\"jueves\":\n",
        "     print(\"\"\"Jueves!\n",
        "    Estoy muy desvelado\n",
        "   Me siento hasta mareado\n",
        "   No voy a trabajar!\n",
        "   No vo´a tabajá!...(4)\n",
        "   Acitrón de un fandango\n",
        "   Sango sango sabaré\n",
        "   Sabaré que va cantando\n",
        "   Con su triki triki tran\n",
        "   Con su triki triki tran\n",
        "   Con su trikitriki triki tran tran tran\n",
        "   (2 veces)\"\"\")\n",
        "elif dia==\"jueves\":\n",
        "    print(\"\"\"Jueves!\n",
        "   Estoy muy desvelado\n",
        "   Me siento hasta mareado\n",
        "   No voy a trabajar!\n",
        "   No vo´a tabajá!...(4)\n",
        "   Acitrón de un fandango\n",
        "   Sango sango sabaré\n",
        "   Sabaré que va cantando\n",
        "   Con su triki triki tran\n",
        "   Con su triki triki tran\n",
        "   Con su trikitriki triki tran tran tran\n",
        "   (2 veces)\"\"\")\n",
        "elif dia==\"viernes\":\n",
        "    print(\"\"\"Viernes!\n",
        "   Que muere jesucristo!\n",
        "   Donde se ha visto?\n",
        "   No voy a trabajar!\n",
        "   No vo´a tabajá!...(4)\n",
        "   Sabado!\n",
        "   Trabajo medio día\n",
        "   Por medio día\n",
        "   No voy a trabajar!\n",
        "   No vo´a tabajá!...(4)\"\"\")\n",
        "elif dia==\"domingo\":\n",
        "    print(\"\"\"Domingo!\n",
        "   Día de descanso\n",
        "   Bien merecido\n",
        "   No voy a trabajar!\n",
        "   No vo´a tabajá!...(4)\n",
        "   Acitrón de un fandango\n",
        "   Sango sango sabaré\n",
        "   Sabaré que va cantando\n",
        "   Con su triki triki tran\n",
        "   Con su triki triki tran\n",
        "   Con su trikitriki triki tran tran tran\n",
        "   (2 veces)\"\"\")\n",
        "else:\n",
        "  print(\"error\")"
      ],
      "metadata": {
        "colab": {
          "base_uri": "https://localhost:8080/"
        },
        "id": "IHVZw84WYtdu",
        "outputId": "05830c57-460e-48cf-b6df-528446d05a2f"
      },
      "execution_count": null,
      "outputs": [
        {
          "output_type": "stream",
          "name": "stdout",
          "text": [
            "Martes!\n",
            "    Ni te cases ni te embarques\n",
            "    Pa´ que voy a arriesgarme\n",
            "    No voy a trabajar!\n",
            "    No vo´a tabajá!...(4)\n",
            "    Miercoles!\n",
            "   nSe casa la patrona\n",
            "   Ay que pachangona!\n",
            "   No voy a trabajar!\n",
            "  No vo´a tabajá!...(4)\n"
          ]
        }
      ]
    },
    {
      "cell_type": "markdown",
      "source": [
        "numero par o impar"
      ],
      "metadata": {
        "id": "iFg-aKG0DIGL"
      }
    },
    {
      "cell_type": "code",
      "source": [
        "numeropi=float(input(\"escribe el numero\"))\n",
        "numeropi=numeropi%2\n",
        "if numeropi==0:\n",
        "   print(\"el numero es par\")\n",
        "elif numeropi>0:\n",
        "   print(\"el numero es impar\")\n",
        "else:\n",
        "  print(\"error\")\n"
      ],
      "metadata": {
        "colab": {
          "base_uri": "https://localhost:8080/"
        },
        "id": "IUr0__JBDHuJ",
        "outputId": "ca0bee7e-73f5-4420-ce76-95cfb7acc5f3"
      },
      "execution_count": 5,
      "outputs": [
        {
          "output_type": "stream",
          "name": "stdout",
          "text": [
            "escribe el numero4\n",
            "el numero es par\n"
          ]
        }
      ]
    }
  ]
}