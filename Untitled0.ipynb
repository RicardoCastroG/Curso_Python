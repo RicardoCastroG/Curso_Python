{
  "nbformat": 4,
  "nbformat_minor": 0,
  "metadata": {
    "colab": {
      "provenance": [],
      "authorship_tag": "ABX9TyPXMuGOqOZ2EOoZGsXjg4Ns",
      "include_colab_link": true
    },
    "kernelspec": {
      "name": "python3",
      "display_name": "Python 3"
    },
    "language_info": {
      "name": "python"
    }
  },
  "cells": [
    {
      "cell_type": "markdown",
      "metadata": {
        "id": "view-in-github",
        "colab_type": "text"
      },
      "source": [
        "<a href=\"https://colab.research.google.com/github/RicardoCastroG/Curso_Python/blob/main/Untitled0.ipynb\" target=\"_parent\"><img src=\"https://colab.research.google.com/assets/colab-badge.svg\" alt=\"Open In Colab\"/></a>"
      ]
    },
    {
      "cell_type": "markdown",
      "source": [
        " Primer Codigo\n",
        "\" hello world\"\n",
        "\n"
      ],
      "metadata": {
        "id": "NxRmMDswsm_t"
      }
    },
    {
      "cell_type": "code",
      "execution_count": null,
      "metadata": {
        "id": "HNAIRqgrrj8Y"
      },
      "outputs": [],
      "source": [
        "#la funcion print es para desplegar informacion en pantalla\n",
        "print(\"hello world\")"
      ]
    },
    {
      "cell_type": "code",
      "source": [
        "#la funcion print tambien se puede poner con comillas simples ''\n",
        "print('hello world')"
      ],
      "metadata": {
        "id": "peUauaHbt0-b"
      },
      "execution_count": null,
      "outputs": []
    },
    {
      "cell_type": "code",
      "source": [
        "#tambien se puede sin la funcion print\n",
        "\"hola mundo\""
      ],
      "metadata": {
        "id": "VcrrSxUeuxMm"
      },
      "execution_count": null,
      "outputs": []
    },
    {
      "cell_type": "code",
      "source": [],
      "metadata": {
        "id": "TfVdsd49vPdm"
      },
      "execution_count": null,
      "outputs": []
    }
  ]
}