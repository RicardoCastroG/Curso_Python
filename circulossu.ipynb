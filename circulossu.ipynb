{
  "nbformat": 4,
  "nbformat_minor": 0,
  "metadata": {
    "colab": {
      "provenance": [],
      "authorship_tag": "ABX9TyNNt0elQu9w7Tz9r57oZVT7",
      "include_colab_link": true
    },
    "kernelspec": {
      "name": "python3",
      "display_name": "Python 3"
    },
    "language_info": {
      "name": "python"
    }
  },
  "cells": [
    {
      "cell_type": "markdown",
      "metadata": {
        "id": "view-in-github",
        "colab_type": "text"
      },
      "source": [
        "<a href=\"https://colab.research.google.com/github/RicardoCastroG/Curso_Python/blob/main/circulossu.ipynb\" target=\"_parent\"><img src=\"https://colab.research.google.com/assets/colab-badge.svg\" alt=\"Open In Colab\"/></a>"
      ]
    },
    {
      "cell_type": "code",
      "execution_count": 2,
      "metadata": {
        "colab": {
          "base_uri": "https://localhost:8080/"
        },
        "id": "CQiaLKKUFK1z",
        "outputId": "10367698-2310-4459-caac-076eec7a1f7b"
      },
      "outputs": [
        {
          "output_type": "stream",
          "name": "stdout",
          "text": [
            "cuale es el radio 9\n",
            "el area es  254.46959999999999\n",
            "el perimetro es  56.5488\n"
          ]
        }
      ],
      "source": [
        "#calcullar el perimetro y area de un circulo\n",
        "radio=float(input(\"cuale es el radio \"))\n",
        "pi=3.1416\n",
        "area=pi*(radio**2)\n",
        "perimetro=2*pi*radio\n",
        "print(\"el area es \",area)\n",
        "print(\"el perimetro es \",perimetro)"
      ]
    }
  ]
}